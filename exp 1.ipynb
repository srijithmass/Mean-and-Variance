{
 "cells": [
  {
   "cell_type": "code",
   "execution_count": null,
   "id": "2d4eed41",
   "metadata": {},
   "outputs": [],
   "source": [
    "#Developed By : SRIJITH R\n",
    "#Reg. No. : 212221240054\n",
    "\n",
    "import numpy as np\n",
    "L=[int(i) for i in input().split()]\n",
    "N=len(L); M=max(L) \n",
    "x=list();f=list()\n",
    "for i in range (M+1):\n",
    "    c = 0\n",
    "    for j in range(N):\n",
    "        if L[j]==i:\n",
    "            c=c+1\n",
    "    f.append(c)\n",
    "    x.append(i)\n",
    "sf=np.sum(f)\n",
    "p=list()\n",
    "for i in range(M+1):\n",
    "    p.append(f[i]/sf) \n",
    "mean=np.inner(x,p)\n",
    "EX2=np.inner(np.square(x),p)\n",
    "var=EX2-mean**2 \n",
    "SD=np.sqrt(var)\n",
    "print(\"The Mean arrival rate is %.3f \"%mean)\n",
    "print(\"The Variance of arrival from feeder is %.3f \"%var) \n",
    "print(\"The Standard deviation of arrival from feeder is %.3F \"%SD)\n"
   ]
  }
 ],
 "metadata": {
  "kernelspec": {
   "display_name": "Python 3 (ipykernel)",
   "language": "python",
   "name": "python3"
  },
  "language_info": {
   "codemirror_mode": {
    "name": "ipython",
    "version": 3
   },
   "file_extension": ".py",
   "mimetype": "text/x-python",
   "name": "python",
   "nbconvert_exporter": "python",
   "pygments_lexer": "ipython3",
   "version": "3.9.13"
  }
 },
 "nbformat": 4,
 "nbformat_minor": 5
}
